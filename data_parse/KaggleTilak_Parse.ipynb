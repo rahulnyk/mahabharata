{
 "cells": [
  {
   "cell_type": "markdown",
   "metadata": {},
   "source": [
    "# Parse Tilaks Kaggle dataset into a csv"
   ]
  },
  {
   "cell_type": "markdown",
   "metadata": {},
   "source": [
    "## Setup"
   ]
  },
  {
   "cell_type": "code",
   "execution_count": 20,
   "metadata": {},
   "outputs": [],
   "source": [
    "import glob\n",
    "import re\n",
    "import statistics\n",
    "from pathlib import Path\n",
    "import pandas as pd\n",
    "import tiktoken\n",
    "import uuid\n",
    "\n",
    "directory = Path(\"../text/KaggleTilak\")\n",
    "out_directory = Path(\"../data\")\n",
    "glossary = directory/'kaggla_tilak_glossary.txt'\n",
    "stories = directory/'kaggle_tilak_mahabharata.txt'"
   ]
  },
  {
   "cell_type": "code",
   "execution_count": 21,
   "metadata": {},
   "outputs": [],
   "source": [
    "## Calculate number of tokens in a string. \n",
    "def num_tokens_from_string(string: str) -> int:\n",
    "    \"\"\"Returns the number of tokens in a text string.\"\"\"\n",
    "    encoding = tiktoken.get_encoding(\"cl100k_base\")\n",
    "    num_tokens = len(encoding.encode(string))\n",
    "    return num_tokens"
   ]
  },
  {
   "cell_type": "markdown",
   "metadata": {},
   "source": [
    "## Defining Directories"
   ]
  },
  {
   "cell_type": "code",
   "execution_count": 22,
   "metadata": {},
   "outputs": [],
   "source": [
    "directory = Path('../text/KaggleTilak')\n",
    "subdirectory = directory/'books'\n",
    "file = directory/'1-18 books combined.txt'\n",
    "source = 'https://www.kaggle.com/datasets/tilakd/mahabharata'"
   ]
  },
  {
   "cell_type": "markdown",
   "metadata": {},
   "source": [
    "## Split the books"
   ]
  },
  {
   "cell_type": "code",
   "execution_count": 23,
   "metadata": {},
   "outputs": [],
   "source": [
    "\n",
    "book_text = \"\"\n",
    "current_book = \"NA\"\n",
    "outfile = \"\"\n",
    "book_number = 0\n",
    "\n",
    "with open(file) as books:\n",
    "     for line in books:\n",
    "          ## Match start of a book\n",
    "          if re.match(r\".{1,20}Parva *$\", line):\n",
    "               ## Skip initial empty text\n",
    "               if not (current_book == \"NA\"):\n",
    "                    outfile = directory/f\"books/{book_number}_{current_book.replace(' ', '_')}.txt\"\n",
    "                    outfile.write_text(book_text.strip())\n",
    "\n",
    "               # print(\"Parva\", line)\n",
    "               current_book = line.replace(\"\\n\", \"\").strip()\n",
    "               book_number += 1\n",
    "               book_text = \"\"\n",
    "               continue\n",
    "          book_text = book_text + \"\\n\" + line\n",
    "\n",
    "     ## Last book\n",
    "     outfile = directory/f\"books/{book_number}_{current_book.replace(' ', '_')}.txt\"\n",
    "     outfile.write_text(book_text.strip())\n",
    "\n"
   ]
  },
  {
   "cell_type": "markdown",
   "metadata": {},
   "source": [
    "## Read each book and split into chapters\n",
    "\n",
    "Chapter patterns\n",
    "\n",
    "`Chapter One -> '^(Chapter) (?!Commentary).* *$' `\n",
    "\n",
    "Commentary pattern \n",
    "\n",
    "`Chapter Commentary -> '^(Chapter) (Commentary).* *$'`"
   ]
  },
  {
   "cell_type": "code",
   "execution_count": 24,
   "metadata": {},
   "outputs": [],
   "source": [
    "file_list = glob.glob(f\"{subdirectory}/*.txt\")\n",
    "\n",
    "chapter_pattern = '^(Chapter) (?!Commentary).* *$'\n",
    "commentary_patterns = '^(Chapter) (Commentary).* *$'\n",
    "\n",
    "data = []"
   ]
  },
  {
   "cell_type": "code",
   "execution_count": 25,
   "metadata": {},
   "outputs": [],
   "source": [
    "\n",
    "for file_name in file_list:\n",
    "\n",
    "     ## Get book name and number from file name\n",
    "     file = file_name.split(\"/\")[-1]\n",
    "     book_number = file[:len(file)-4].split('_')[0]\n",
    "     book_name = \" \".join(file[:len(file)-4].split('_')[1:3])\n",
    "\n",
    "     next_line = \"Chapter Heading\"\n",
    "     current_chapter = \"NA\"\n",
    "     commentary = False\n",
    "     section_number = 0\n",
    "\n",
    "     with open(file_name) as book:\n",
    "          for line in book:\n",
    "               if not line.strip():\n",
    "                    # print(\"___Empty Line___\")\n",
    "                    continue\n",
    "          \n",
    "               ## Match Chapter\n",
    "               if re.match(chapter_pattern, line):\n",
    "                    # print(\"Chapter\", line)\n",
    "                    current_chapter = line.replace(\"\\n\", \"\").strip()\n",
    "                    commentary = False\n",
    "                    next_line = 'Chapter Heading'\n",
    "                    continue\n",
    "\n",
    "               ## Match chapter heading\n",
    "               if next_line == \"Chapter Heading\":\n",
    "                    # print(\"Chapter Heading ->\", line)\n",
    "                    current_chapter_heading = line.replace(\"\\n\", \"\").strip()\n",
    "                    next_line = \"NA\"\n",
    "                    continue\n",
    "\n",
    "               ## Match Commentary\n",
    "               if re.match(commentary_patterns, line):\n",
    "                    commentary = True\n",
    "               \n",
    "               ## Every line is read as section. Hence adding section number to maintain the chronology. \n",
    "               section_number += 1\n",
    "               ## Adding chunk_id, unique across all books\n",
    "               chunk_id = uuid.uuid4().hex\n",
    "               data = data + [[\n",
    "                    book_number, \n",
    "                    book_name, \n",
    "                    current_chapter, \n",
    "                    current_chapter_heading, \n",
    "                    commentary, \n",
    "                    line, \n",
    "                    section_number, \n",
    "                    chunk_id]]"
   ]
  },
  {
   "cell_type": "markdown",
   "metadata": {},
   "source": [
    "## Prepare the Dataframe"
   ]
  },
  {
   "cell_type": "code",
   "execution_count": 26,
   "metadata": {},
   "outputs": [
    {
     "data": {
      "text/html": [
       "<div>\n",
       "<style scoped>\n",
       "    .dataframe tbody tr th:only-of-type {\n",
       "        vertical-align: middle;\n",
       "    }\n",
       "\n",
       "    .dataframe tbody tr th {\n",
       "        vertical-align: top;\n",
       "    }\n",
       "\n",
       "    .dataframe thead th {\n",
       "        text-align: right;\n",
       "    }\n",
       "</style>\n",
       "<table border=\"1\" class=\"dataframe\">\n",
       "  <thead>\n",
       "    <tr style=\"text-align: right;\">\n",
       "      <th></th>\n",
       "      <th>book_number</th>\n",
       "      <th>book_name</th>\n",
       "      <th>chapter_name</th>\n",
       "      <th>title</th>\n",
       "      <th>commentary</th>\n",
       "      <th>text</th>\n",
       "      <th>section_number</th>\n",
       "      <th>chunk_id</th>\n",
       "      <th>source</th>\n",
       "      <th>num_tokens</th>\n",
       "    </tr>\n",
       "  </thead>\n",
       "  <tbody>\n",
       "    <tr>\n",
       "      <th>0</th>\n",
       "      <td>5</td>\n",
       "      <td>Udyoga Parva</td>\n",
       "      <td>Chapter One</td>\n",
       "      <td>The Pandavas Prepare for War</td>\n",
       "      <td>False</td>\n",
       "      <td>After Abhimanyu's marriage, there was royal fe...</td>\n",
       "      <td>1</td>\n",
       "      <td>9312924f181148b593546a9f4069496e</td>\n",
       "      <td>https://www.kaggle.com/datasets/tilakd/mahabha...</td>\n",
       "      <td>438</td>\n",
       "    </tr>\n",
       "    <tr>\n",
       "      <th>1</th>\n",
       "      <td>5</td>\n",
       "      <td>Udyoga Parva</td>\n",
       "      <td>Chapter One</td>\n",
       "      <td>The Pandavas Prepare for War</td>\n",
       "      <td>False</td>\n",
       "      <td>After listening to the words of His younger br...</td>\n",
       "      <td>2</td>\n",
       "      <td>c6580378dd2b4de1a6b51e1fca0ae41a</td>\n",
       "      <td>https://www.kaggle.com/datasets/tilakd/mahabha...</td>\n",
       "      <td>168</td>\n",
       "    </tr>\n",
       "    <tr>\n",
       "      <th>2</th>\n",
       "      <td>5</td>\n",
       "      <td>Udyoga Parva</td>\n",
       "      <td>Chapter One</td>\n",
       "      <td>The Pandavas Prepare for War</td>\n",
       "      <td>False</td>\n",
       "      <td>After Lord Balarama finished expressing His op...</td>\n",
       "      <td>3</td>\n",
       "      <td>543ed12b44d64382a822764298d5e229</td>\n",
       "      <td>https://www.kaggle.com/datasets/tilakd/mahabha...</td>\n",
       "      <td>289</td>\n",
       "    </tr>\n",
       "    <tr>\n",
       "      <th>3</th>\n",
       "      <td>5</td>\n",
       "      <td>Udyoga Parva</td>\n",
       "      <td>Chapter One</td>\n",
       "      <td>The Pandavas Prepare for War</td>\n",
       "      <td>False</td>\n",
       "      <td>After Satyaki's speech, the eminent king Drupa...</td>\n",
       "      <td>4</td>\n",
       "      <td>435015e2364c47d8bf56ff26c90fe187</td>\n",
       "      <td>https://www.kaggle.com/datasets/tilakd/mahabha...</td>\n",
       "      <td>174</td>\n",
       "    </tr>\n",
       "    <tr>\n",
       "      <th>4</th>\n",
       "      <td>5</td>\n",
       "      <td>Udyoga Parva</td>\n",
       "      <td>Chapter One</td>\n",
       "      <td>The Pandavas Prepare for War</td>\n",
       "      <td>False</td>\n",
       "      <td>Lord Krishna then gave the final opinion, King...</td>\n",
       "      <td>5</td>\n",
       "      <td>dde98f55bde5416cb0b5c1b9532baf75</td>\n",
       "      <td>https://www.kaggle.com/datasets/tilakd/mahabha...</td>\n",
       "      <td>276</td>\n",
       "    </tr>\n",
       "  </tbody>\n",
       "</table>\n",
       "</div>"
      ],
      "text/plain": [
       "   book_number     book_name chapter_name                         title  \\\n",
       "0            5  Udyoga Parva  Chapter One  The Pandavas Prepare for War   \n",
       "1            5  Udyoga Parva  Chapter One  The Pandavas Prepare for War   \n",
       "2            5  Udyoga Parva  Chapter One  The Pandavas Prepare for War   \n",
       "3            5  Udyoga Parva  Chapter One  The Pandavas Prepare for War   \n",
       "4            5  Udyoga Parva  Chapter One  The Pandavas Prepare for War   \n",
       "\n",
       "   commentary                                               text  \\\n",
       "0       False  After Abhimanyu's marriage, there was royal fe...   \n",
       "1       False  After listening to the words of His younger br...   \n",
       "2       False  After Lord Balarama finished expressing His op...   \n",
       "3       False  After Satyaki's speech, the eminent king Drupa...   \n",
       "4       False  Lord Krishna then gave the final opinion, King...   \n",
       "\n",
       "   section_number                          chunk_id  \\\n",
       "0               1  9312924f181148b593546a9f4069496e   \n",
       "1               2  c6580378dd2b4de1a6b51e1fca0ae41a   \n",
       "2               3  543ed12b44d64382a822764298d5e229   \n",
       "3               4  435015e2364c47d8bf56ff26c90fe187   \n",
       "4               5  dde98f55bde5416cb0b5c1b9532baf75   \n",
       "\n",
       "                                              source  num_tokens  \n",
       "0  https://www.kaggle.com/datasets/tilakd/mahabha...         438  \n",
       "1  https://www.kaggle.com/datasets/tilakd/mahabha...         168  \n",
       "2  https://www.kaggle.com/datasets/tilakd/mahabha...         289  \n",
       "3  https://www.kaggle.com/datasets/tilakd/mahabha...         174  \n",
       "4  https://www.kaggle.com/datasets/tilakd/mahabha...         276  "
      ]
     },
     "execution_count": 26,
     "metadata": {},
     "output_type": "execute_result"
    }
   ],
   "source": [
    "df_lines = pd.DataFrame(\n",
    "    data, \n",
    "    columns=[\n",
    "        'book_number', \n",
    "        'book_name', \n",
    "        'chapter_name', \n",
    "        'title', \n",
    "        'commentary', \n",
    "        'text', \n",
    "        'section_number', \n",
    "        'chunk_id']\n",
    "    )\n",
    "    \n",
    "df_lines['book_number'] = df_lines['book_number'].astype('int')\n",
    "df_lines['source'] = source\n",
    "df_lines['num_tokens'] = df_lines['text'].apply(num_tokens_from_string)\n",
    "df_lines.head()\n"
   ]
  },
  {
   "cell_type": "markdown",
   "metadata": {},
   "source": [
    "## Write the dataframe to csv"
   ]
  },
  {
   "cell_type": "code",
   "execution_count": 27,
   "metadata": {},
   "outputs": [],
   "source": [
    "\n",
    "df_lines['num_tokens'] = df_lines['text'].apply(num_tokens_from_string)"
   ]
  },
  {
   "cell_type": "code",
   "execution_count": 28,
   "metadata": {},
   "outputs": [],
   "source": [
    "df_lines.to_csv(out_directory/\"kaggle_tilak_summaries.csv\", index=False, sep=\"|\")\n"
   ]
  }
 ],
 "metadata": {
  "kernelspec": {
   "display_name": "OpenAI@3114",
   "language": "python",
   "name": "python3"
  },
  "language_info": {
   "codemirror_mode": {
    "name": "ipython",
    "version": 3
   },
   "file_extension": ".py",
   "mimetype": "text/x-python",
   "name": "python",
   "nbconvert_exporter": "python",
   "pygments_lexer": "ipython3",
   "version": "3.11.1"
  },
  "orig_nbformat": 4
 },
 "nbformat": 4,
 "nbformat_minor": 2
}
