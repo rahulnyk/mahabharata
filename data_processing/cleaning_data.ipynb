{
 "cells": [
  {
   "cell_type": "code",
   "execution_count": 2,
   "metadata": {},
   "outputs": [],
   "source": [
    "import re\n",
    "import glob\n",
    "import numpy as np\n",
    "import pandas as pd\n",
    "# import swifter\n",
    "from pathlib import Path\n",
    "from dotenv import load_dotenv\n",
    "##\n",
    "load_dotenv('../.env') \n",
    "directory = Path(\"../data\")"
   ]
  },
  {
   "cell_type": "markdown",
   "metadata": {},
   "source": [
    "## Change the chunk_id format"
   ]
  },
  {
   "cell_type": "code",
   "execution_count": null,
   "metadata": {},
   "outputs": [],
   "source": [
    "# ner_directory = directory/\"named_entities\"\n",
    "# file_list = glob.glob(f\"{directory}/*.csv\") +  glob.glob(f\"{ner_directory}/*.csv\")\n",
    "\n",
    "# # file_list\n",
    "\n",
    "# for file in file_list:\n",
    "#     file_name = file.split(\"/\")[-1]\n",
    "#     print(\"Filename :\", file_name)\n",
    "#     if file_name in ['tiny_tales_glossary.csv']:\n",
    "#         print('Skipping: ', file_name)\n",
    "#         continue\n",
    "\n",
    "#     df = pd.read_csv(file, sep=\"|\")\n",
    "#     df['chunk_id'] = df['chunk_id'].apply(lambda x: f\"cid_{x}\")\n",
    "#     df.to_csv(file, index=False, sep=\"|\")\n",
    "#     print(\"Wrote file :\", file)\n"
   ]
  },
  {
   "cell_type": "markdown",
   "metadata": {},
   "source": [
    "## Clean names of all special characters"
   ]
  },
  {
   "cell_type": "code",
   "execution_count": 5,
   "metadata": {},
   "outputs": [],
   "source": [
    "def remove_special(text):\n",
    "    if type(text) != str:\n",
    "        return ''\n",
    "    clean = text.strip(\"',?()\\\".[]-\")\n",
    "    return clean"
   ]
  },
  {
   "cell_type": "code",
   "execution_count": 6,
   "metadata": {},
   "outputs": [
    {
     "name": "stdout",
     "output_type": "stream",
     "text": [
      "Filename : km_ganguli_translation_5_named_entities.csv\n",
      "Filename : km_ganguli_translation_8_named_entities.csv\n",
      "Filename : km_ganguli_translation_13_named_entities.csv\n",
      "Filename : tiny_tales_summaries_named_entities.csv\n",
      "Filename : km_ganguli_translation_10_named_entities.csv\n",
      "Filename : km_ganguli_translation_6_named_entities.csv\n",
      "Filename : km_ganguli_translation_16_named_entities.csv\n",
      "Filename : km_ganguli_translation_18_named_entities.csv\n",
      "Filename : km_ganguli_translation_15_named_entities.csv\n",
      "Filename : kaggle_tilak_summaries_named_entities.csv\n",
      "Filename : km_ganguli_translation_3_named_entities.csv\n",
      "Filename : km_ganguli_translation_14_named_entities.csv\n",
      "Filename : km_ganguli_translation_2_named_entities.csv\n",
      "Filename : km_ganguli_translation_1_named_entities.csv\n",
      "Filename : km_ganguli_translation_17_named_entities.csv\n",
      "Filename : wikipedia_parva_summaries_named_entities.csv\n",
      "Filename : km_ganguli_translation_11_named_entities.csv\n",
      "Filename : km_ganguli_translation_7_named_entities.csv\n",
      "Filename : km_ganguli_translation_4_named_entities.csv\n",
      "Filename : km_ganguli_translation_9_named_entities.csv\n",
      "Filename : km_ganguli_translation_12_named_entities.csv\n"
     ]
    }
   ],
   "source": [
    "ner_directory = directory/\"named_entities\"\n",
    "file_list = glob.glob(f\"{ner_directory}/*.csv\")\n",
    "\n",
    "for file in file_list:\n",
    "    file_name = file.split(\"/\")[-1]\n",
    "    print(\"Filename :\", file_name)\n",
    "    df = pd.read_csv(file, sep=\"|\")\n",
    "    df[\"name\"] = df['name'].apply(remove_special)\n",
    "    df['name'].replace('', np.nan, inplace=True)\n",
    "    df.dropna(subset=['name'], inplace=True)\n",
    "    df.to_csv(file, index=False, sep=\"|\")\n",
    "\n",
    "    # print(\"Wrote file :\", file)"
   ]
  },
  {
   "cell_type": "code",
   "execution_count": 7,
   "metadata": {},
   "outputs": [],
   "source": [
    "## Test the dataframe\n",
    "df = pd.read_csv(ner_directory/\"kaggle_tilak_summaries_named_entities.csv\", sep=\"|\")"
   ]
  },
  {
   "cell_type": "code",
   "execution_count": null,
   "metadata": {},
   "outputs": [],
   "source": []
  }
 ],
 "metadata": {
  "kernelspec": {
   "display_name": "OpenAI@3111",
   "language": "python",
   "name": "python3"
  },
  "language_info": {
   "codemirror_mode": {
    "name": "ipython",
    "version": 3
   },
   "file_extension": ".py",
   "mimetype": "text/x-python",
   "name": "python",
   "nbconvert_exporter": "python",
   "pygments_lexer": "ipython3",
   "version": "3.11.1"
  },
  "orig_nbformat": 4
 },
 "nbformat": 4,
 "nbformat_minor": 2
}
